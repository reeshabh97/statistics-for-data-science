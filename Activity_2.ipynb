{
 "cells": [
  {
   "cell_type": "markdown",
   "id": "f157b17f",
   "metadata": {},
   "source": [
    "<h1 align=\"center\"> Statistics for Data science </h1>\n",
    "<h2 align=\"center\"> Activity - 2 </h2>"
   ]
  },
  {
   "cell_type": "code",
   "execution_count": 1,
   "id": "62c42d7d",
   "metadata": {},
   "outputs": [
    {
     "name": "stdout",
     "output_type": "stream",
     "text": [
      "     Index  Age Sex  Bps  Cholesterol\n",
      "0        0   63   M  145          233\n",
      "1        1   37   M  130          250\n",
      "2        2   41   F  130          204\n",
      "3        3   56   M  120          236\n",
      "4        4   57   F  120          354\n",
      "..     ...  ...  ..  ...          ...\n",
      "298    298   57   F  140          241\n",
      "299    299   45   M  110          264\n",
      "300    300   68   M  144          193\n",
      "301    301   57   M  130          131\n",
      "302    302   57   F  130          236\n",
      "\n",
      "[303 rows x 5 columns]\n"
     ]
    }
   ],
   "source": [
    "import pandas as pd\n",
    "csv_path=\"cleaned_heart.csv\"\n",
    "df=pd.read_csv(csv_path)   #Original dataset\n",
    "#pd.set_option('display.max_rows', 500)\n",
    "print(df)"
   ]
  },
  {
   "cell_type": "code",
   "execution_count": 2,
   "id": "a32355a4",
   "metadata": {},
   "outputs": [
    {
     "name": "stdout",
     "output_type": "stream",
     "text": [
      "     Age Sex  Cholesterol\n",
      "0     63   M          233\n",
      "1     37   M          250\n",
      "2     41   F          204\n",
      "3     56   M          236\n",
      "4     57   F          354\n",
      "..   ...  ..          ...\n",
      "298   57   F          241\n",
      "299   45   M          264\n",
      "300   68   M          193\n",
      "301   57   M          131\n",
      "302   57   F          236\n",
      "\n",
      "[303 rows x 3 columns]\n"
     ]
    }
   ],
   "source": [
    "x=df[['Age','Sex','Cholesterol']]    #Keeping the required columns only\n",
    "print(x)"
   ]
  },
  {
   "cell_type": "code",
   "execution_count": 3,
   "id": "083e800f",
   "metadata": {},
   "outputs": [
    {
     "name": "stdout",
     "output_type": "stream",
     "text": [
      "Cholesterol    111\n",
      "dtype: int64\n",
      "Cholesterol    126\n",
      "dtype: int64\n"
     ]
    }
   ],
   "source": [
    "print(df[['Cholesterol']].idxmin())  # Patient index value for minimum cholesterol\n",
    "print(df[['Cholesterol']].min())   # MIN Cholesterol value"
   ]
  },
  {
   "cell_type": "code",
   "execution_count": 4,
   "id": "f18cc6a9",
   "metadata": {},
   "outputs": [
    {
     "name": "stdout",
     "output_type": "stream",
     "text": [
      "Cholesterol    85\n",
      "dtype: int64\n",
      "Cholesterol    564\n",
      "dtype: int64\n"
     ]
    }
   ],
   "source": [
    "print(df[['Cholesterol']].idxmax())   # Patent index value for maximum cholesterol\n",
    "print(df[['Cholesterol']].max())   # MAX Cholesterol value"
   ]
  },
  {
   "cell_type": "code",
   "execution_count": 5,
   "id": "029db29e",
   "metadata": {},
   "outputs": [
    {
     "name": "stdout",
     "output_type": "stream",
     "text": [
      "     Age Sex  Cholesterol\n",
      "53    44   F          141\n",
      "111   57   M          126\n",
      "151   71   F          149\n",
      "267   49   M          149\n",
      "301   57   M          131\n",
      "Number of patients in this class = 5\n"
     ]
    }
   ],
   "source": [
    "# Finding no. of patients corresponding to a certain class\n",
    "x1=x[x[\"Cholesterol\"]<=150]\n",
    "print(x1)\n",
    "print('Number of patients in this class =',len(x1))"
   ]
  },
  {
   "cell_type": "code",
   "execution_count": 6,
   "id": "36abdc8c",
   "metadata": {},
   "outputs": [
    {
     "name": "stdout",
     "output_type": "stream",
     "text": [
      "     Age Sex  Cholesterol\n",
      "111   57   M          126\n",
      "301   57   M          131\n",
      "53    44   F          141\n",
      "151   71   F          149\n",
      "267   49   M          149\n",
      "..   ...  ..          ...\n",
      "96    62   F          394\n",
      "220   63   F          407\n",
      "246   56   F          409\n",
      "28    65   F          417\n",
      "85    67   F          564\n",
      "\n",
      "[303 rows x 3 columns]\n"
     ]
    }
   ],
   "source": [
    "chol_sort=x.sort_values('Cholesterol')\n",
    "print(chol_sort)"
   ]
  },
  {
   "cell_type": "code",
   "execution_count": 7,
   "id": "dbe4df8b",
   "metadata": {},
   "outputs": [
    {
     "name": "stdout",
     "output_type": "stream",
     "text": [
      "5\n"
     ]
    }
   ],
   "source": [
    "x2=x[x[\"Cholesterol\"]<=150]   #From this I calculated the cumulative no. of patients for each class.\n",
    "print(len(x2))"
   ]
  },
  {
   "cell_type": "code",
   "execution_count": 8,
   "id": "4c170269",
   "metadata": {},
   "outputs": [],
   "source": [
    "# Code for calculating BINOMIAL probability for each observation:\n",
    "\n",
    "#n=int(input(\"Enter no. of trials: \"))\n",
    "n=100\n",
    "#r=int(input(\"Enter no. of successes: \"))\n",
    "#p=float(input(\"Enter success probability: \"))\n",
    "p=0.4\n",
    "q=1-p\n",
    "\n",
    "def Factorial(m):\n",
    "    ans=1\n",
    "    i=1\n",
    "    while(i<m):\n",
    "        i=i+1\n",
    "        ans=ans*i\n",
    "    return(ans)\n",
    "\n",
    "def Binomial(n,p,r):\n",
    "    c=(Factorial(n)/(Factorial(r)*Factorial(n-r)))\n",
    "    result=c*(p**r)*(q**(n-r))\n",
    "    return(result)\n",
    "\n",
    "#for r in range(1,60,1):\n",
    "    #print(Binomial(n,p,r))\n"
   ]
  },
  {
   "cell_type": "code",
   "execution_count": 9,
   "id": "ed75c439",
   "metadata": {},
   "outputs": [],
   "source": [
    "# Code for calculating POISSON probability for each observation:\n",
    "\n",
    "\n",
    "import math as m\n",
    "#n=int(input(\"Enter no. of trials: \"))\n",
    "#r=int(input(\"Enter no. of successes: \"))\n",
    "#p=float(input(\"Enter success probability: \"))\n",
    "l=20\n",
    "\n",
    "def Factorial(m):\n",
    "    ans=1\n",
    "    i=1\n",
    "    while(i<m):\n",
    "        i=i+1\n",
    "        ans=ans*i\n",
    "    return(ans)\n",
    "\n",
    "def Poisson(k,l):\n",
    "    c=Factorial(k)\n",
    "    result=(m.exp(-l))*(l**k)/c\n",
    "    return(result)\n",
    "\n",
    "#for k in range(1,60,1):\n",
    "    #print(Poisson(k,l))\n"
   ]
  },
  {
   "cell_type": "code",
   "execution_count": 2,
   "id": "e4ed7cca",
   "metadata": {},
   "outputs": [
    {
     "name": "stdout",
     "output_type": "stream",
     "text": [
      "0.0007201408241592507\n",
      "0.001055393544397329\n",
      "0.0015194648031729924\n",
      "0.002149047748486532\n",
      "0.00298593737264572\n",
      "0.0040756279637180655\n",
      "0.005464967472696292\n",
      "0.007198795535091742\n",
      "0.009315610142788689\n",
      "0.01184246147874558\n",
      "0.014789444623927407\n",
      "0.018144330988303748\n",
      "0.02186800995679915\n",
      "0.02589147399776173\n",
      "0.030115043662283264\n",
      "0.03441037678709836\n",
      "0.038625540368197694\n",
      "0.0425930674029803\n",
      "0.04614051909025639\n",
      "0.04910268537377644\n",
      "0.051334249946135196\n",
      "0.052721578784775694\n",
      "0.05319230405352436\n",
      "0.052721578784775694\n",
      "0.051334249946135196\n",
      "0.04910268537377644\n",
      "0.04614051909025639\n",
      "0.0425930674029803\n",
      "0.038625540368197694\n",
      "0.03441037678709836\n",
      "0.030115043662283264\n",
      "0.02589147399776173\n",
      "0.02186800995679915\n",
      "0.018144330988303748\n",
      "0.014789444623927407\n",
      "0.01184246147874558\n",
      "0.009315610142788689\n",
      "0.007198795535091742\n",
      "0.005464967472696292\n",
      "0.0040756279637180655\n",
      "0.00298593737264572\n",
      "0.002149047748486532\n",
      "0.0015194648031729924\n",
      "0.001055393544397329\n",
      "0.0007201408241592507\n",
      "0.0004827248304025716\n",
      "0.0003178784268619787\n",
      "0.0002056371995054807\n",
      "0.00013068372817004958\n",
      "8.158692401516958e-05\n",
      "5.0037869829017335e-05\n",
      "3.0147845120491293e-05\n",
      "1.7844030101984714e-05\n",
      "1.0375495064049008e-05\n",
      "5.926576822503441e-06\n",
      "3.325662838673805e-06\n",
      "1.8332923497924495e-06\n",
      "9.928061160839988e-07\n",
      "5.2817321213761e-07\n"
     ]
    }
   ],
   "source": [
    "# Code for calculating NORMAL or GAUSSIAN probability for each observation:\n",
    "\n",
    "import numpy as np\n",
    "\n",
    "#Creating a Function.\n",
    "def normal_dist(x, mean, sd):\n",
    "    prob_density = (1/(sd*np.sqrt(2*np.pi)))*(np.exp(-0.5*((x-mean)/sd)**2))\n",
    "    return prob_density\n",
    " \n",
    "#Apply function to the data.\n",
    "for x in range(1,60,1):\n",
    "    pdf = normal_dist(x,23,7.5)   #23 represents the cholesterol interval **236-240** \n",
    "    print(pdf)"
   ]
  }
 ],
 "metadata": {
  "kernelspec": {
   "display_name": "Python 3",
   "language": "python",
   "name": "python3"
  },
  "language_info": {
   "codemirror_mode": {
    "name": "ipython",
    "version": 3
   },
   "file_extension": ".py",
   "mimetype": "text/x-python",
   "name": "python",
   "nbconvert_exporter": "python",
   "pygments_lexer": "ipython3",
   "version": "3.9.4"
  }
 },
 "nbformat": 4,
 "nbformat_minor": 5
}
